{
  "nbformat": 4,
  "nbformat_minor": 0,
  "metadata": {
    "colab": {
      "provenance": [],
      "authorship_tag": "ABX9TyOAGRVwLNF2Z9floS8Kqh1+",
      "include_colab_link": true
    },
    "kernelspec": {
      "name": "python3",
      "display_name": "Python 3"
    },
    "language_info": {
      "name": "python"
    }
  },
  "cells": [
    {
      "cell_type": "markdown",
      "metadata": {
        "id": "view-in-github",
        "colab_type": "text"
      },
      "source": [
        "<a href=\"https://colab.research.google.com/github/NikkiBJ/FirstOne/blob/master/Untitled2.ipynb\" target=\"_parent\"><img src=\"https://colab.research.google.com/assets/colab-badge.svg\" alt=\"Open In Colab\"/></a>"
      ]
    },
    {
      "cell_type": "code",
      "execution_count": null,
      "metadata": {
        "id": "MYOTBm3O00a_"
      },
      "outputs": [],
      "source": [
        "from contextlib import contextmanager\n",
        "@contextmanager\n",
        "def csv_Manager(filename,mode):\n",
        "\n",
        "    try:\n",
        "        with open(filename, mode) as file:\n",
        "            lines = file.readlines()\n",
        "            yield lines\n",
        "            file.close()\n",
        "    finally:\n",
        "        print(\"Final clause finished.\")\n",
        "\n",
        "with csv_Manager(r/content/newtest.csv'r') as file:\n",
        "    for i in range(0, 2):\n",
        "        print(file[i])\n",
        "\n"
      ]
    },
    {
      "cell_type": "code",
      "source": [
        "from contextlib import contextmanager\n",
        "@contextmanager\n",
        "def csv_Manager(/content/test.csv,mode):\n",
        "\n",
        "    try:\n",
        "        with open(/content/test.csv, mode) as file:\n",
        "            lines = file.readlines()\n",
        "            yield lines\n",
        "            file.close()\n",
        "    finally:\n",
        "        print(\"Final clause finished.\")\n",
        "\n",
        "with csv_Manager(r\"C:\\Users\\Consultant\\Documents\\python\\project_titanic\\test.csv\",'r') as file:\n",
        "    for i in range(0, 2):\n",
        "        print(file[i])"
      ],
      "metadata": {
        "colab": {
          "base_uri": "https://localhost:8080/",
          "height": 141
        },
        "id": "RlgE-DsF1zsm",
        "outputId": "3c5a4a02-0af8-470e-84ff-e9c8e8e4bf1b"
      },
      "execution_count": 3,
      "outputs": [
        {
          "output_type": "error",
          "ename": "SyntaxError",
          "evalue": "ignored",
          "traceback": [
            "\u001b[0;36m  File \u001b[0;32m\"<ipython-input-3-2e677ae73c10>\"\u001b[0;36m, line \u001b[0;32m6\u001b[0m\n\u001b[0;31m    with open(/content/test.csv, mode) as file:\u001b[0m\n\u001b[0m              ^\u001b[0m\n\u001b[0;31mSyntaxError\u001b[0m\u001b[0;31m:\u001b[0m invalid syntax\n"
          ]
        }
      ]
    },
    {
      "cell_type": "code",
      "source": [
        "from contextlib import contextmanager\n",
        "@contextmanager\n",
        "def csv_Manager(filename,mode):\n",
        "\n",
        "    try:\n",
        "        with open(filename, mode) as file:\n",
        "            lines = file.readlines()\n",
        "            yield lines\n",
        "            file.close()\n",
        "    finally:\n",
        "        print(\"Final clause finished.\")\n",
        "\n",
        "with csv_Manager(r\"C:\\Users\\Consultant\\Documents\\python\\project_titanic\\test.csv\",'r') as file:\n",
        "    for i in range(0, 2):\n",
        "        print(file[i])"
      ],
      "metadata": {
        "id": "ugV54bur4npG"
      },
      "execution_count": null,
      "outputs": []
    }
  ]
}