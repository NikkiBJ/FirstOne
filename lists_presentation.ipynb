{
  "nbformat": 4,
  "nbformat_minor": 0,
  "metadata": {
    "colab": {
      "provenance": [],
      "authorship_tag": "ABX9TyNYoQG5ofWRO9BT38iOdP1I",
      "include_colab_link": true
    },
    "kernelspec": {
      "name": "python3",
      "display_name": "Python 3"
    },
    "language_info": {
      "name": "python"
    }
  },
  "cells": [
    {
      "cell_type": "markdown",
      "metadata": {
        "id": "view-in-github",
        "colab_type": "text"
      },
      "source": [
        "<a href=\"https://colab.research.google.com/github/NikkiBJ/FirstOne/blob/master/lists_presentation.ipynb\" target=\"_parent\"><img src=\"https://colab.research.google.com/assets/colab-badge.svg\" alt=\"Open In Colab\"/></a>"
      ]
    },
    {
      "cell_type": "code",
      "source": [
        "# Creating a list\n",
        "my_list = [1, 2, 3, 4, 5]\n",
        "\n",
        "# Accessing elements\n",
        "first_element = my_list[0]  # Accessing the first element (1)\n",
        "second_element = my_list[1]  # Accessing the second element (2)\n",
        "\n",
        "# Modifying elements\n",
        "my_list[2] = 10  # Modifying the third element to 10\n",
        "\n",
        "# List operations\n",
        "list1 = [1, 2, 3]\n",
        "list2 = [4, 5, 6]\n",
        "concatenated_list = list1 + list2  # Concatenating lists\n",
        "repeated_list = list1 * 3  # Repeating the list\n",
        "\n",
        "# List methods\n",
        "my_list.append(6)  # Appending an item to the end\n",
        "my_list.insert(2, 7)  # Inserting an item at a specific index\n",
        "my_list.remove(4)  # Removing an item by value\n",
        "popped_element = my_list.pop(1)  # Removing and returning an item by index\n",
        "my_list.sort()  # Sorting the list in ascending order\n",
        "my_list.reverse()  # Reversing the order of elements\n",
        "\n",
        "# List functions\n",
        "length = len(my_list)  # Getting the length of the list\n",
        "max_value = max(my_list)  # Getting the maximum value\n",
        "min_value = min(my_list)  # Getting the minimum value\n",
        "sum_value = sum(my_list)  # Getting the sum of all elements\n",
        "\n",
        "# Printing the results\n",
        "print(\"First element:\", first_element)\n",
        "print(\"Second element:\", second_element)\n",
        "print(\"Modified list:\", my_list)\n",
        "print(\"Concatenated list:\", concatenated_list)\n",
        "print(\"Repeated list:\", repeated_list)\n",
        "print(\"Popped element:\", popped_element)\n",
        "print(\"Length of the list:\", length)\n",
        "print(\"Maximum value:\", max_value)\n",
        "print(\"Minimum value:\", min_value)\n",
        "print(\"Sum of all elements:\", sum_value)\n"
      ],
      "metadata": {
        "id": "zFdy8Sh0VQkp"
      },
      "execution_count": 3,
      "outputs": []
    },
    {
      "cell_type": "code",
      "source": [
        "#filter data based on complex criteri\n",
        "data = [[1, 2, 3], [4, 5, 6], [7, 8, 9]]\n",
        "filtered_data = [[item for item in row if item % 2 == 0 if item > 4] for row in data]\n"
      ],
      "metadata": {
        "id": "YEYYsut8dkcm"
      },
      "execution_count": null,
      "outputs": []
    },
    {
      "cell_type": "code",
      "source": [
        "#array\n",
        "from array import array\n",
        "\n",
        "int_array = array('i', [1, 2, 3, 4, 5])  # 'i' represents the data type (integer)\n",
        "\n",
        "array1 = array('i', [1, 2, 3])\n",
        "array2 = array('i', [4, 5, 6])\n",
        "concatenated_array = array1 + array2  # Concatenation\n",
        "repeated_array = array1 * 3  # Repetition\n"
      ],
      "metadata": {
        "id": "zWNMtLB8esls"
      },
      "execution_count": 2,
      "outputs": []
    },
    {
      "cell_type": "code",
      "source": [
        "list_of_arrays = [[1, 2, 3], [4, 5, 6], [7, 8, 9], [10, 11, 12]]\n",
        "\n",
        "count = sum(isinstance(item, list) for item in list_of_arrays)\n",
        "\n",
        "print(\"Number of arrays in the list:\", count)\n"
      ],
      "metadata": {
        "colab": {
          "base_uri": "https://localhost:8080/"
        },
        "id": "PD5i_rsiTcTF",
        "outputId": "836acee3-4e2a-485d-bc71-99727caa4d80"
      },
      "execution_count": 1,
      "outputs": [
        {
          "output_type": "stream",
          "name": "stdout",
          "text": [
            "Number of arrays in the list: 4\n"
          ]
        }
      ]
    },
    {
      "cell_type": "code",
      "source": [],
      "metadata": {
        "id": "xFw2s4V0VU2w"
      },
      "execution_count": null,
      "outputs": []
    },
    {
      "cell_type": "code",
      "execution_count": null,
      "metadata": {
        "id": "B29mcweicSjB"
      },
      "outputs": [],
      "source": [
        "# flattening lists\n",
        "\n",
        "nested_list = [[1, 2, 3], [4, 5, 6], [7, 8, 9]]\n",
        "flattened_list = [element for sublist in nested_list for element in sublist]\n"
      ]
    },
    {
      "cell_type": "code",
      "source": [],
      "metadata": {
        "id": "AbQPgqetVjJH"
      },
      "execution_count": null,
      "outputs": []
    },
    {
      "cell_type": "code",
      "source": [
        "#filtered data\n",
        "nested_data = [[1, 2, 3], [4, 5], [6, 7, 8, 9]]\n",
        "filtered_data = [[item for item in inner_list if item % 2 == 0] for inner_list in nested_data if len(inner_list) > 2]\n"
      ],
      "metadata": {
        "id": "t-C_3l4gc3Zl"
      },
      "execution_count": null,
      "outputs": []
    },
    {
      "cell_type": "code",
      "source": [
        "#nested list\n",
        "# Creating a nested list\n",
        "nested_list = [\n",
        "    [1, 2, 3],\n",
        "    [4, 5, 6],\n",
        "    [7, 8, 9]\n",
        "]\n",
        "\n",
        "# Accessing elements in the nested list\n",
        "element_1_2 = nested_list[1][2]  # Accessing the element at row 1, column 2 (value: 6)\n",
        "element_2_0 = nested_list[2][0]  # Accessing the element at row 2, column 0 (value: 7)\n",
        "\n",
        "# Printing the accessed elements\n",
        "print(\"Element at [1][2]:\", element_1_2)\n",
        "print(\"Element at [2][0]:\", element_2_0)\n"
      ],
      "metadata": {
        "colab": {
          "base_uri": "https://localhost:8080/"
        },
        "id": "aomwJLDLUKqd",
        "outputId": "2a143557-ecd6-4a4d-a3c6-3f7ee72644b2"
      },
      "execution_count": 3,
      "outputs": [
        {
          "output_type": "stream",
          "name": "stdout",
          "text": [
            "Element at [1][2]: 6\n",
            "Element at [2][0]: 7\n"
          ]
        }
      ]
    }
  ]
}